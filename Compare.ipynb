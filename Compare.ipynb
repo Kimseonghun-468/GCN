{
 "cells": [
  {
   "cell_type": "code",
   "execution_count": 4,
   "metadata": {},
   "outputs": [],
   "source": [
    "def Validation(n_fold,X,Y):\n",
    "    list_train_fold = []\n",
    "    list_val_fold = []\n",
    "    list_train = []\n",
    "    Number = X.shape[0]//n_fold\n",
    "    for i in range(X.shape[0]):\n",
    "        list_train.append(i)\n",
    "    \n",
    "    for i in range(n_fold)[::-1]:\n",
    "        list_val = []\n",
    "        if i==n_fold-1:\n",
    "            for j in range(Number*i,X.shape[0]):\n",
    "                list_val.append(j)\n",
    "            list_train_fold.append(np.setdiff1d(list_train,list_val))\n",
    "            list_val_fold.append(list_val)\n",
    "            \n",
    "        \n",
    "        if i != n_fold-1: \n",
    "            for j in range(Number*i,Number*(i+1)):\n",
    "                list_val.append(j)\n",
    "            list_train_fold.append(np.setdiff1d(list_train,list_val))\n",
    "            list_val_fold.append(list_val)\n",
    "        \n",
    "    return list_train_fold, list_val_fold"
   ]
  },
  {
   "cell_type": "code",
   "execution_count": 5,
   "metadata": {},
   "outputs": [],
   "source": [
    "import pandas as pd\n",
    "import numpy as np\n",
    "from scipy.sparse import coo_matrix\n",
    "from sklearn.preprocessing import MinMaxScaler\n",
    "data = pd.read_csv(\"Data/PPI.csv\")\n",
    "data.drop(['string'], axis='columns', inplace=True)\n",
    "data1 = pd.read_csv(\"Data/Table_S6_GDSC_Drug_response_IC50.csv\")\n",
    "data1.drop(['Unnamed: 0'], axis='columns', inplace=True)\n",
    "data2 = pd.read_csv(\"Data/EXP.csv\")\n",
    "data2.drop(['Unnamed: 0'], axis='columns', inplace=True)\n",
    "data2=np.array(data2)\n",
    "\n",
    "scaler = MinMaxScaler()\n",
    "scaler.fit(data1)\n",
    "data1 = scaler.transform(data1)\n",
    "\n",
    "from sklearn.model_selection import train_test_split\n",
    "   \n",
    "train_data_split, test_data_split, train_labels_split, test_labels_split = train_test_split(data2, data1, \n",
    "                                                      test_size=0.25, shuffle=True, random_state=20)\n",
    "\n",
    "\n",
    "X_train = np.array(train_data_split[:]).astype(np.float32)\n",
    "X_test = np.array(test_data_split[:]).astype(np.float32)\n",
    "Y_train = np.array(train_labels_split).astype(np.float32)\n",
    "Y_test = np.array(test_labels_split[:]).astype(np.float32)\n",
    "\n"
   ]
  },
  {
   "cell_type": "code",
   "execution_count": 18,
   "metadata": {},
   "outputs": [],
   "source": [
    "# KernelRidge\n",
    "from sklearn.kernel_ridge import KernelRidge\n",
    "import numpy as np\n",
    "\n",
    "n_fold = 3\n",
    "for cv in range(n_fold):\n",
    "    model = KernelRidge()\n",
    "    Y_pred = np.zeros([X_test.shape[0], Y_train.shape[1]])\n",
    "    for i in range(Y_train.shape[1]):\n",
    "        y_train = Y_train[:, i]\n",
    "        x_train = X_train[~np.isnan(y_train)]\n",
    "        y_train = y_train[~np.isnan(y_train)]\n",
    "        \n",
    "        train_fold, val_fold = Validation(n_fold, x_train,y_train)\n",
    "        \n",
    "        model.fit(x_train[train_fold[cv]], y_train[train_fold[cv]])\n",
    "        Y_pred[:, i] = model.predict(X_test)\n",
    "    #np.savez(('Result/KRR_CV_{}'.format(cv)), Y_true=Y_test, Y_pred=Y_pred)"
   ]
  },
  {
   "cell_type": "code",
   "execution_count": 3,
   "metadata": {},
   "outputs": [
    {
     "data": {
      "text/plain": [
       "array([[0.52818121, 0.40454562, 0.58735693, ..., 0.44591466, 0.46112163,\n",
       "        0.81931499],\n",
       "       [0.51166003, 0.72085953, 0.52139631, ..., 0.28976016, 0.53859058,\n",
       "        0.74478388],\n",
       "       [0.56139802, 0.50876953, 0.17590553, ..., 0.11895323, 0.27817899,\n",
       "        0.61092248],\n",
       "       ...,\n",
       "       [0.58204285, 0.53085672,        nan, ..., 0.28845841, 0.28036646,\n",
       "        0.76446601],\n",
       "       [0.58808006, 0.757052  , 0.4865119 , ..., 0.31618119, 0.50524049,\n",
       "        0.64475449],\n",
       "       [0.52137608, 0.75290445, 0.87674484, ..., 0.61302454, 0.55428691,\n",
       "        0.92063257]])"
      ]
     },
     "execution_count": 3,
     "metadata": {},
     "output_type": "execute_result"
    }
   ],
   "source": [
    "data1"
   ]
  },
  {
   "cell_type": "code",
   "execution_count": 16,
   "metadata": {},
   "outputs": [
    {
     "data": {
      "text/plain": [
       "[array([  0,   1,   2,   3,   4,   5,   6,   7,   8,   9,  10,  11,  12,\n",
       "         13,  14,  15,  16,  17,  18,  19,  20,  21,  22,  23,  24,  25,\n",
       "         26,  27,  28,  29,  30,  31,  32,  33,  34,  35,  36,  37,  38,\n",
       "         39,  40,  41,  42,  43,  44,  45,  46,  47,  48,  49,  50,  51,\n",
       "         52,  53,  54,  55,  56,  57,  58,  59,  60,  61,  62,  63,  64,\n",
       "         65,  66,  67,  68,  69,  70,  71,  72,  73,  74,  75,  76,  77,\n",
       "         78,  79,  80,  81,  82,  83,  84,  85,  86,  87,  88,  89,  90,\n",
       "         91,  92,  93,  94,  95,  96,  97,  98,  99, 100, 101, 102, 103,\n",
       "        104, 105, 106, 107, 108, 109, 110, 111, 112, 113, 114, 115, 116,\n",
       "        117, 118, 119, 120, 121, 122, 123, 124, 125, 126, 127, 128, 129,\n",
       "        130, 131, 132, 133, 134, 135, 136, 137, 138, 139, 140, 141, 142,\n",
       "        143, 144, 145, 146, 147, 148, 149, 150, 151, 152, 153, 154, 155,\n",
       "        156, 157, 158, 159, 160, 161, 162, 163, 164, 165, 166, 167, 168,\n",
       "        169, 170, 171, 172, 173, 174, 175, 176, 177, 178, 179, 180, 181,\n",
       "        182, 183, 184, 185, 186, 187, 188, 189, 190, 191, 192, 193, 194,\n",
       "        195, 196, 197, 198, 199, 200, 201, 202, 203, 204, 205, 206, 207,\n",
       "        208, 209, 210, 211, 212, 213, 214, 215, 216, 217, 218, 219, 220,\n",
       "        221, 222, 223, 224, 225, 226, 227, 228, 229, 230, 231, 232, 233,\n",
       "        234, 235, 236, 237, 238, 239, 240, 241, 242, 243, 244, 245, 246,\n",
       "        247, 248, 249, 250, 251, 252, 253, 254, 255, 256, 257, 258, 259,\n",
       "        260, 261, 262, 263, 264, 265, 266, 267, 268, 269, 270]),\n",
       " array([271, 272, 273, 274, 275, 276, 277, 278, 279, 280, 281, 282, 283,\n",
       "        284, 285, 286, 287, 288, 289, 290, 291, 292, 293, 294, 295, 296,\n",
       "        297, 298, 299, 300, 301, 302, 303, 304, 305, 306, 307, 308, 309,\n",
       "        310, 311, 312, 313, 314, 315, 316, 317, 318, 319, 320, 321, 322,\n",
       "        323, 324, 325, 326, 327, 328, 329, 330, 331, 332, 333, 334, 335,\n",
       "        336, 337, 338, 339, 340, 341, 342, 343, 344, 345, 346, 347, 348,\n",
       "        349, 350, 351, 352, 353, 354, 355, 356, 357, 358, 359, 360, 361,\n",
       "        362, 363, 364, 365, 366, 367, 368, 369, 370, 371, 372, 373, 374,\n",
       "        375, 376, 377, 378, 379, 380, 381, 382, 383, 384, 385, 386, 387,\n",
       "        388, 389, 390, 391, 392, 393, 394, 395, 396, 397, 398, 399, 400,\n",
       "        401, 402, 403, 404, 405, 406, 407, 408, 409, 410, 411, 412, 413,\n",
       "        414, 415, 416, 417, 418, 419, 420, 421, 422, 423, 424, 425, 426,\n",
       "        427, 428, 429, 430, 431, 432, 433, 434, 435, 436, 437, 438, 439,\n",
       "        440, 441, 442, 443, 444, 445, 446, 447, 448, 449, 450, 451, 452,\n",
       "        453, 454, 455, 456, 457, 458, 459, 460, 461, 462, 463, 464, 465,\n",
       "        466, 467, 468, 469, 470, 471, 472, 473, 474, 475, 476, 477, 478,\n",
       "        479, 480, 481, 482, 483, 484, 485, 486, 487, 488, 489, 490, 491,\n",
       "        492, 493, 494, 495, 496, 497, 498, 499, 500, 501, 502, 503, 504,\n",
       "        505, 506, 507, 508, 509, 510, 511, 512, 513, 514, 515, 516, 517,\n",
       "        518, 519, 520, 521, 522, 523, 524, 525, 526, 527, 528, 529, 530,\n",
       "        531, 532, 533, 534, 535, 536, 537, 538, 539, 540, 541, 542])]"
      ]
     },
     "execution_count": 16,
     "metadata": {},
     "output_type": "execute_result"
    }
   ],
   "source": [
    "a,b = Validation(2, x_train,y_train)\n",
    "a"
   ]
  },
  {
   "cell_type": "code",
   "execution_count": null,
   "metadata": {},
   "outputs": [
    {
     "name": "stdout",
     "output_type": "stream",
     "text": [
      "CV : 0\n",
      "0 1 2 3 4 5 6 7 8 9 10 11 12 13 14 15 16 17 18 19 20 21 22 23 "
     ]
    }
   ],
   "source": [
    "# RandomForestRegressor\n",
    "from sklearn.ensemble import RandomForestRegressor\n",
    "import numpy as np\n",
    "\n",
    "n_fold = 1\n",
    "for cv in range(n_fold):\n",
    "    model = RandomForestRegressor()\n",
    "    Y_pred = np.zeros([X_test.shape[0], Y_train.shape[1]])\n",
    "    print(\"CV :\",cv)\n",
    "    for i in range(Y_train.shape[1]):\n",
    "        y_train = Y_train[:, i]\n",
    "        x_train = X_train[~np.isnan(y_train)]\n",
    "        y_train = y_train[~np.isnan(y_train)]\n",
    "        \n",
    "        val_fold, train_fold = Validation(n_fold, x_train,y_train)\n",
    "        model.fit(x_train[train_fold[cv]], y_train[train_fold[cv]])\n",
    "        Y_pred[:, i] = model.predict(X_test)\n",
    "        print(i, end = ' ')\n",
    "    print(\"CV fold\",cv,\"종료\")\n",
    "    np.savez(('Result/Fold1_RF_CV_{}'.format(cv)), Y_true=Y_test, Y_pred=Y_pred)\n",
    "    "
   ]
  },
  {
   "cell_type": "code",
   "execution_count": null,
   "metadata": {},
   "outputs": [
    {
     "name": "stdout",
     "output_type": "stream",
     "text": [
      "CV : 0\n",
      "0 1 2 3 4 5 6 7 8 9 10 11 12 13 14 15 16 17 18 19 20 21 22 23 24 25 26 27 28 29 30 31 32 33 34 35 36 37 38 39 40 41 42 43 44 45 46 47 48 49 50 51 52 53 54 55 56 57 58 59 60 61 62 63 64 65 66 67 68 69 70 71 72 73 74 75 76 77 78 79 80 81 82 83 84 85 86 87 88 89 90 91 92 93 94 95 96 97 98 99 100 101 102 103 104 105 106 107 108 109 110 111 112 113 114 115 116 117 118 119 120 121 122 123 124 125 "
     ]
    }
   ],
   "source": [
    "# MLPRegressor\n",
    "from sklearn.neural_network import MLPRegressor\n",
    "import numpy as np\n",
    "\n",
    "n_fold = 3\n",
    "for cv in range(n_fold):\n",
    "    model = MLPRegressor(hidden_layer_sizes = (1000,100))\n",
    "    Y_pred = np.zeros([X_test.shape[0], Y_train.shape[1]])\n",
    "    print(\"CV :\",cv)\n",
    "    for i in range(Y_train.shape[1]):\n",
    "        y_train = Y_train[:, i]\n",
    "        x_train = X_train[~np.isnan(y_train)]\n",
    "        y_train = y_train[~np.isnan(y_train)]\n",
    "        \n",
    "        train_fold, val_fold = Validation(n_fold, x_train,y_train)\n",
    "        \n",
    "        model.fit(x_train[train_fold[cv]], y_train[train_fold[cv]])\n",
    "        Y_pred[:, i] = model.predict(X_test)\n",
    "        print(i, end = ' ')\n",
    "    print(\"CV fold\",cv,\"종료\")\n",
    "    np.savez(('Result/MLP_CV_{}'.format(cv)), Y_true=Y_test, Y_pred=Y_pred)"
   ]
  },
  {
   "cell_type": "code",
   "execution_count": null,
   "metadata": {},
   "outputs": [
    {
     "name": "stdout",
     "output_type": "stream",
     "text": [
      "CV : 0\n",
      "0 1 2 3 4 5 6 7 8 9 10 11 12 13 14 15 16 17 18 19 20 21 22 23 24 25 26 27 28 29 30 31 32 33 34 35 36 37 38 39 40 41 42 43 44 45 46 47 48 49 50 51 52 53 54 55 56 57 58 59 60 61 62 63 64 65 66 67 68 69 70 71 72 73 74 75 76 77 78 79 80 81 82 83 84 85 86 87 88 89 90 91 92 93 94 95 96 97 98 99 100 101 102 103 104 105 106 107 108 109 110 111 112 113 114 115 116 117 118 119 120 121 122 123 124 125 126 127 128 129 130 131 132 133 134 135 136 137 138 139 140 141 142 143 144 145 146 147 148 149 150 151 152 153 154 155 156 157 158 159 160 161 162 163 164 165 166 167 168 169 170 171 172 173 174 175 176 177 178 179 180 181 182 183 184 185 186 187 188 189 190 191 192 193 194 195 196 197 198 199 200 CV fold 0 종료\n",
      "CV : 1\n",
      "0 1 2 3 4 5 6 7 8 9 10 11 12 13 14 15 16 17 18 19 20 21 22 23 24 25 26 27 28 29 30 31 32 33 34 35 36 37 38 39 40 41 42 43 44 45 46 47 48 49 50 51 52 53 54 55 56 57 58 59 60 61 62 63 64 65 66 67 68 69 70 71 72 73 74 75 76 77 78 79 80 81 82 83 84 85 86 87 88 89 90 91 92 93 94 95 96 97 98 99 100 101 102 103 104 105 106 107 108 109 110 111 112 113 114 115 116 117 118 119 120 121 122 123 124 125 126 127 128 129 130 131 132 133 134 135 136 137 138 139 140 141 142 143 144 145 146 147 148 149 150 151 152 153 154 155 156 157 158 159 160 161 162 163 164 165 166 167 168 169 170 171 172 173 174 175 176 177 178 179 180 181 182 183 184 185 186 187 188 189 190 191 192 193 194 195 196 197 198 199 200 CV fold 1 종료\n",
      "CV : 2\n",
      "0 1 2 3 4 5 6 7 8 9 10 11 12 13 14 15 16 17 18 19 20 21 22 23 24 25 26 27 28 29 30 31 32 33 34 35 36 37 38 39 40 41 42 43 44 45 46 47 48 49 50 51 52 53 "
     ]
    }
   ],
   "source": [
    "# BaggingRegressor\n",
    "from sklearn.ensemble import BaggingRegressor\n",
    "\n",
    "n_fold = 3\n",
    "for cv in range(n_fold):\n",
    "    model = BaggingRegressor()\n",
    "    Y_pred = np.zeros([X_test.shape[0], Y_train.shape[1]])\n",
    "    print(\"CV :\",cv)\n",
    "    for i in range(Y_train.shape[1]):\n",
    "        y_train = Y_train[:, i]\n",
    "        x_train = X_train[~np.isnan(y_train)]\n",
    "        y_train = y_train[~np.isnan(y_train)]\n",
    "        \n",
    "        train_fold, val_fold = Validation(n_fold, x_train,y_train)\n",
    "        \n",
    "        model.fit(x_train[train_fold[cv]], y_train[train_fold[cv]])\n",
    "        Y_pred[:, i] = model.predict(X_test)\n",
    "        print(i, end = ' ')\n",
    "    print(\"CV fold\",cv,\"종료\")\n",
    "    np.savez(('Result/BR_CV_{}'.format(cv)), Y_true=Y_test, Y_pred=Y_pred)"
   ]
  },
  {
   "cell_type": "code",
   "execution_count": 6,
   "metadata": {},
   "outputs": [
    {
     "name": "stdout",
     "output_type": "stream",
     "text": [
      "CV : 0\n",
      "Epsilon iter 1: 146050.9741821429\n",
      "Epsilon iter 2: 14054.011579337446\n",
      "Epsilon iter 3: 3589.3206083312807\n",
      "Epsilon iter 4: 2160.429423748144\n",
      "Epsilon iter 5: 1714.94278918821\n",
      "Epsilon iter 6: 1554.927148289219\n",
      "Epsilon iter 7: 1494.2926122752788\n",
      "Epsilon iter 8: 596.7103973967387\n",
      "Epsilon iter 9: 445.5600661435095\n",
      "Epsilon iter 10: 185.83909766642824\n",
      "Epsilon iter 11: 82.91673043523576\n",
      "Epsilon iter 12: 11.081234730580604\n",
      "Epsilon iter 13: 0.48827280455293476\n",
      "Epsilon iter 14: 0.2754807223402054\n",
      "Epsilon iter 15: 0.007549467820240352\n",
      "Epsilon iter 16: -0.2079804901833313\n",
      "CV fold 0 종료\n",
      "CV : 1\n",
      "Epsilon iter 1: 148344.07727228565\n",
      "Epsilon iter 2: 13892.878988436121\n",
      "Epsilon iter 3: 3495.376682437951\n",
      "Epsilon iter 4: 2132.0113590581395\n",
      "Epsilon iter 5: 1708.55985838862\n",
      "Epsilon iter 6: 1560.5144439175374\n",
      "Epsilon iter 7: 1510.5712921204408\n",
      "Epsilon iter 8: 1036.585324637943\n",
      "Epsilon iter 9: 375.38884822020714\n",
      "Epsilon iter 10: 372.44342347805497\n",
      "Epsilon iter 11: 193.9533657674059\n",
      "Epsilon iter 12: 136.62207697248203\n",
      "Epsilon iter 13: 48.4192310674016\n",
      "Epsilon iter 14: 22.860570971230914\n",
      "Epsilon iter 15: 22.773665426306707\n",
      "Epsilon iter 16: 4.645661058080407\n",
      "Epsilon iter 17: 1.4445713197106897\n",
      "Epsilon iter 18: 0.8245566917984775\n",
      "Epsilon iter 19: -0.1718781383860346\n",
      "CV fold 1 종료\n",
      "CV : 2\n",
      "Epsilon iter 1: 148691.15545979916\n",
      "Epsilon iter 2: 14010.555984974018\n",
      "Epsilon iter 3: 3453.0199188202932\n",
      "Epsilon iter 4: 2116.1612417131564\n",
      "Epsilon iter 5: 1685.1165151799348\n",
      "Epsilon iter 6: 1558.0593838905543\n",
      "Epsilon iter 7: 1504.5170233712847\n",
      "Epsilon iter 8: 1477.065990595632\n",
      "Epsilon iter 9: 399.5355830221904\n",
      "Epsilon iter 10: 349.94935324313576\n",
      "Epsilon iter 11: 222.28519760626818\n",
      "Epsilon iter 12: 72.31082506929499\n",
      "Epsilon iter 13: 34.7203225547629\n",
      "Epsilon iter 14: 7.1569583190269555\n",
      "Epsilon iter 15: -1.290834871279742\n",
      "CV fold 2 종료\n"
     ]
    }
   ],
   "source": [
    "from KRL.KRL import KRL \n",
    "n_fold = 3\n",
    "for cv in range(n_fold):\n",
    "    Y_pred = np.zeros([X_test.shape[0], Y_train.shape[1]])\n",
    "    print(\"CV :\",cv)\n",
    "    list_train, list_val = Validation(n_fold, X_train, Y_train)\n",
    "    \n",
    "    X_train_cv = np.array(X_train)[list_train[cv]]\n",
    "    X_test_cv = np.array(X_test)\n",
    "    Y_train_cv = np.array(Y_train)[list_train[cv]]\n",
    "    Y_test_cv = np.array(Y_test)\n",
    "\n",
    "    Y_pred = KRL(X_train_cv,Y_train_cv,X_test_cv,10,1,None,4,True)\n",
    "\n",
    "    np.savez(('Result/KRL_CV_{}'.format(cv)), Y_true=Y_test_cv, Y_pred=Y_pred)\n",
    "    print(\"CV fold\",cv,\"종료\")"
   ]
  },
  {
   "cell_type": "code",
   "execution_count": null,
   "metadata": {},
   "outputs": [],
   "source": []
  },
  {
   "cell_type": "code",
   "execution_count": null,
   "metadata": {},
   "outputs": [],
   "source": []
  },
  {
   "cell_type": "code",
   "execution_count": null,
   "metadata": {},
   "outputs": [],
   "source": []
  },
  {
   "cell_type": "code",
   "execution_count": null,
   "metadata": {},
   "outputs": [],
   "source": []
  }
 ],
 "metadata": {
  "kernelspec": {
   "display_name": "Python 3",
   "language": "python",
   "name": "python3"
  },
  "language_info": {
   "codemirror_mode": {
    "name": "ipython",
    "version": 3
   },
   "file_extension": ".py",
   "mimetype": "text/x-python",
   "name": "python",
   "nbconvert_exporter": "python",
   "pygments_lexer": "ipython3",
   "version": "3.7.6"
  }
 },
 "nbformat": 4,
 "nbformat_minor": 4
}
